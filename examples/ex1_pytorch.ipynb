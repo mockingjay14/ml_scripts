{
  "nbformat": 4,
  "nbformat_minor": 0,
  "metadata": {
    "colab": {
      "name": "ex1_pytorch.ipynb",
      "provenance": [],
      "collapsed_sections": [],
      "authorship_tag": "ABX9TyP2uIKDfosKtdKTgqylf6vv",
      "include_colab_link": true
    },
    "kernelspec": {
      "name": "python3",
      "display_name": "Python 3"
    },
    "language_info": {
      "name": "python"
    },
    "accelerator": "GPU",
    "gpuClass": "standard"
  },
  "cells": [
    {
      "cell_type": "markdown",
      "metadata": {
        "id": "view-in-github",
        "colab_type": "text"
      },
      "source": [
        "<a href=\"https://colab.research.google.com/github/mockingjay14/ml_scripts/blob/main/examples/ex1_pytorch.ipynb\" target=\"_parent\"><img src=\"https://colab.research.google.com/assets/colab-badge.svg\" alt=\"Open In Colab\"/></a>"
      ]
    },
    {
      "cell_type": "markdown",
      "source": [
        "# Experiment 1: Using Pytorch"
      ],
      "metadata": {
        "id": "mQi1diTDxL9y"
      }
    },
    {
      "cell_type": "markdown",
      "source": [
        "## Import"
      ],
      "metadata": {
        "id": "n-TBO4wVxZcB"
      }
    },
    {
      "cell_type": "code",
      "execution_count": 1,
      "metadata": {
        "id": "AAf3LQH9-WRP"
      },
      "outputs": [],
      "source": [
        "import numpy as np\n",
        "import matplotlib.pyplot as plt\n",
        "import torch\n",
        "from torch import nn\n",
        "from torch.utils.data import DataLoader\n",
        "from torchvision import datasets\n",
        "from torchvision.transforms import ToTensor"
      ]
    },
    {
      "cell_type": "markdown",
      "source": [
        "## Load Data & Transform Data"
      ],
      "metadata": {
        "id": "ZVKAzjKgyTvX"
      }
    },
    {
      "cell_type": "code",
      "source": [
        "# Download Training Data\n",
        "training_data = datasets.FashionMNIST(\n",
        "    root=\"data\",\n",
        "    train=True,\n",
        "    download=True,\n",
        "    transform=ToTensor(),\n",
        ")\n",
        "\n",
        "# Download Test Data\n",
        "test_data = datasets.FashionMNIST(\n",
        "    root=\"data\",\n",
        "    train=False,\n",
        "    download=True,\n",
        "    transform=ToTensor(),\n",
        ")"
      ],
      "metadata": {
        "id": "X-P-UGjMyZlu"
      },
      "execution_count": 2,
      "outputs": []
    },
    {
      "cell_type": "code",
      "source": [
        "# Create Dataloaders\n",
        "\n",
        "# Input Parameter\n",
        "batch_size = 64\n",
        "\n",
        "# Instantiate Dataloader\n",
        "train_dataloader = DataLoader(training_data, batch_size=batch_size)\n",
        "test_dataloader = DataLoader(test_data, batch_size=batch_size)"
      ],
      "metadata": {
        "id": "hRx6javNyj_o"
      },
      "execution_count": 3,
      "outputs": []
    },
    {
      "cell_type": "code",
      "source": [
        "# Create Label Map\n",
        "\n",
        "labels_map = {\n",
        "    0: \"T-Shirt\",\n",
        "    1: \"Trouser\",\n",
        "    2: \"Pullover\",\n",
        "    3: \"Dress\",\n",
        "    4: \"Coat\",\n",
        "    5: \"Sandal\",\n",
        "    6: \"Shirt\",\n",
        "    7: \"Sneaker\",\n",
        "    8: \"Bag\",\n",
        "    9: \"Ankle Boot\",\n",
        "}"
      ],
      "metadata": {
        "id": "w_72DpSX4cCV"
      },
      "execution_count": 4,
      "outputs": []
    },
    {
      "cell_type": "markdown",
      "source": [
        "## Split Data"
      ],
      "metadata": {
        "id": "SIPFv3Ks1ZPU"
      }
    },
    {
      "cell_type": "markdown",
      "source": [
        "## Check Data"
      ],
      "metadata": {
        "id": "nn-Ubft61c7U"
      }
    },
    {
      "cell_type": "code",
      "source": [
        "# Check Train Dataloader Size\n",
        "for X, y in test_dataloader:\n",
        "  print(\"Train Dataloader:\")\n",
        "  print(f\"Shape of X [N, C, H, W]: {X.shape}\")\n",
        "  print(f\"Shape of y: {y.shape} {y.dtype}\")\n",
        "  break\n",
        "\n",
        "print('====================================================')\n",
        "\n",
        "# Check Test Dataloader Size\n",
        "for X, y in test_dataloader:\n",
        "  print(\"Test Dataloader:\")\n",
        "  print(f\"Shape of X [N, C, H, W]: {X.shape}\")\n",
        "  print(f\"Shape of y: {y.shape} {y.dtype}\")\n",
        "  break"
      ],
      "metadata": {
        "colab": {
          "base_uri": "https://localhost:8080/"
        },
        "id": "b_f3lB7K4mik",
        "outputId": "3dbb6818-b4fb-4efb-bb91-1fc40e638494"
      },
      "execution_count": 5,
      "outputs": [
        {
          "output_type": "stream",
          "name": "stdout",
          "text": [
            "Train Dataloader:\n",
            "Shape of X [N, C, H, W]: torch.Size([64, 1, 28, 28])\n",
            "Shape of y: torch.Size([64]) torch.int64\n",
            "====================================================\n",
            "Test Dataloader:\n",
            "Shape of X [N, C, H, W]: torch.Size([64, 1, 28, 28])\n",
            "Shape of y: torch.Size([64]) torch.int64\n"
          ]
        }
      ]
    },
    {
      "cell_type": "code",
      "source": [
        "# Helper Functions\n",
        "\n",
        "# Function for Displaying Batch Data\n",
        "def display_batch_data(batch_data, size):\n",
        "  rows, cols = size\n",
        "  figure = plt.figure(figsize=(8, 8))\n",
        "  for i in range(1, cols * rows + 1):\n",
        "    sample_idx = torch.randint(len(batch_data), size=(1,)).item()\n",
        "    img, label = batch_data[sample_idx]\n",
        "    figure.add_subplot(rows, cols, i)\n",
        "    plt.title(labels_map[label])\n",
        "    plt.axis(\"off\")\n",
        "    plt.imshow(img.squeeze(), cmap=\"gray\")\n",
        "  plt.show()\n",
        "\n",
        "# Function for Displaying Single Data\n",
        "def get_single_data(batch_data, index):\n",
        "  X, y = batch_data[index]\n",
        "  output = X.squeeze().cpu().numpy()\n",
        "  return output, y"
      ],
      "metadata": {
        "id": "Y8No5JSg6GIv"
      },
      "execution_count": 6,
      "outputs": []
    },
    {
      "cell_type": "code",
      "source": [
        "# Display Data\n",
        "\n",
        "# Training Data\n",
        "print(\"Training Data:\")\n",
        "display_batch_data(training_data, size=(3,3))\n",
        "\n",
        "print('===========================================================')\n",
        "\n",
        "# Test Data\n",
        "print(\"Test Data:\")\n",
        "display_batch_data(test_data, size=(3,3))"
      ],
      "metadata": {
        "colab": {
          "base_uri": "https://localhost:8080/",
          "height": 999
        },
        "id": "7QBzbEGz1Y1p",
        "outputId": "2a934b44-ec1d-4469-987c-01b34d150496"
      },
      "execution_count": 7,
      "outputs": [
        {
          "output_type": "stream",
          "name": "stdout",
          "text": [
            "Training Data:\n"
          ]
        },
        {
          "output_type": "display_data",
          "data": {
            "text/plain": [
              "<Figure size 576x576 with 9 Axes>"
            ],
            "image/png": "[encoded data removed]"
          },
          "metadata": {
            "needs_background": "light"
          }
        },
        {
          "output_type": "stream",
          "name": "stdout",
          "text": [
            "===========================================================\n",
            "Test Data:\n"
          ]
        },
        {
          "output_type": "display_data",
          "data": {
            "text/plain": [
              "<Figure size 576x576 with 9 Axes>"
            ],
            "image/png": "[encoded data removed]"
          },
          "metadata": {
            "needs_background": "light"
          }
        }
      ]
    },
    {
      "cell_type": "code",
      "source": [
        "# Display Single Image\n",
        "\n",
        "value, label = get_single_data(training_data, index=0)\n",
        "plt.title(labels_map[label])\n",
        "plt.imshow(value, cmap=plt.get_cmap(\"gray\"))\n",
        "plt.axis(\"off\")\n",
        "plt.show()"
      ],
      "metadata": {
        "colab": {
          "base_uri": "https://localhost:8080/",
          "height": 264
        },
        "id": "5cEtvxu8zRYH",
        "outputId": "2cdf5882-4350-4cd7-e346-04c28ffdb2fa"
      },
      "execution_count": 8,
      "outputs": [
        {
          "output_type": "display_data",
          "data": {
            "text/plain": [
              "<Figure size 432x288 with 1 Axes>"
            ],
            "image/png": "[encoded data removed]"
          },
          "metadata": {
            "needs_background": "light"
          }
        }
      ]
    },
    {
      "cell_type": "markdown",
      "source": [
        "## Create Model"
      ],
      "metadata": {
        "id": "hFbiaKXtA4xO"
      }
    },
    {
      "cell_type": "code",
      "source": [
        "# Define Device for Training\n",
        "\n",
        "device = \"cuda\" if torch.cuda.is_available() else \"cpu\"\n",
        "print(f\"Using {device} device\")"
      ],
      "metadata": {
        "colab": {
          "base_uri": "https://localhost:8080/"
        },
        "id": "4Ra8P7fu8IkV",
        "outputId": "18d5fef4-9549-44f0-d91f-b956654453c5"
      },
      "execution_count": 9,
      "outputs": [
        {
          "output_type": "stream",
          "name": "stdout",
          "text": [
            "Using cuda device\n"
          ]
        }
      ]
    },
    {
      "cell_type": "code",
      "source": [
        "# Define Residual Block\n",
        "\n",
        "class ResidualBlock(nn.Module):\n",
        "    def __init__(self, in_channels, out_channels, kernel_size=3, stride=1, padding=1, bias=False):\n",
        "        super(ResidualBlock,self).__init__()\n",
        "        self.cnn1 =nn.Sequential(\n",
        "            nn.Conv2d(in_channels, out_channels, kernel_size, stride, padding, bias=False),\n",
        "            nn.BatchNorm2d(out_channels),\n",
        "            nn.ReLU(inplace=True)\n",
        "        )\n",
        "        self.cnn2 = nn.Sequential(\n",
        "            nn.Conv2d(out_channels, out_channels, kernel_size, 1, padding, bias=False),\n",
        "            nn.BatchNorm2d(out_channels)\n",
        "        )\n",
        "        if stride != 1 or in_channels != out_channels:\n",
        "            self.shortcut = nn.Sequential(\n",
        "                nn.Conv2d(in_channels, out_channels, kernel_size=1, stride=stride, bias=False),\n",
        "                nn.BatchNorm2d(out_channels)\n",
        "            )\n",
        "        else:\n",
        "            self.shortcut = nn.Sequential()\n",
        "            \n",
        "    def forward(self,x):\n",
        "        residual = x\n",
        "        x = self.cnn1(x)\n",
        "        x = self.cnn2(x)\n",
        "        x += self.shortcut(residual)\n",
        "        x = nn.ReLU(inplace=True)(x)\n",
        "        return x"
      ],
      "metadata": {
        "id": "Wd8g3nAQgCbo"
      },
      "execution_count": 10,
      "outputs": []
    },
    {
      "cell_type": "code",
      "source": [
        "# Define ResNet34 Model\n",
        "\n",
        "class ResNet34(nn.Module):\n",
        "    def __init__(self, input_channels, output_dim):\n",
        "        super(ResNet34,self).__init__()\n",
        "        \n",
        "        self.block1 = nn.Sequential(\n",
        "            nn.Conv2d(input_channels, 64, kernel_size=7, stride=2, \n",
        "                      padding=3, bias=False),\n",
        "            nn.BatchNorm2d(num_features=64),\n",
        "            nn.ReLU(inplace=True)\n",
        "        )\n",
        "        \n",
        "        self.block2 = nn.Sequential(\n",
        "            nn.MaxPool2d(kernel_size=3, stride=2, padding=1),\n",
        "            ResidualBlock(in_channels=64, out_channels=64),\n",
        "            ResidualBlock(in_channels=64, out_channels=64, stride=2)\n",
        "        )\n",
        "        \n",
        "        self.block3 = nn.Sequential(\n",
        "            ResidualBlock(in_channels=64, out_channels=128),\n",
        "            ResidualBlock(in_channels=128, out_channels=128,stride=2)\n",
        "        )\n",
        "        \n",
        "        self.block4 = nn.Sequential(\n",
        "            ResidualBlock(in_channels=128, out_channels=256),\n",
        "            ResidualBlock(in_channels=256, out_channels=256, stride=2)\n",
        "        )\n",
        "        self.block5 = nn.Sequential(\n",
        "            ResidualBlock(in_channels=256, out_channels=512),\n",
        "            ResidualBlock(in_channels=512, out_channels=512, stride=2)\n",
        "        )\n",
        "        \n",
        "        self.avgpool = nn.AdaptiveAvgPool2d(output_size=1)\n",
        "        self.flatten = nn.Flatten()\n",
        "        self.fc = nn.Linear(512, output_dim)\n",
        "        \n",
        "    def forward(self,x):\n",
        "        x = self.block1(x)\n",
        "        x = self.block2(x)\n",
        "        x = self.block3(x)\n",
        "        x = self.block4(x)\n",
        "        x = self.block5(x)\n",
        "        x = self.avgpool(x)\n",
        "        x = self.flatten(x)\n",
        "        x = self.fc(x)\n",
        "        return x"
      ],
      "metadata": {
        "id": "ABgK0OHJonNf"
      },
      "execution_count": 11,
      "outputs": []
    },
    {
      "cell_type": "code",
      "source": [
        "# Load Model to Device\n",
        "\n",
        "model = ResNet34(input_channels=1, output_dim=10).to(device)\n",
        "print(model)"
      ],
      "metadata": {
        "colab": {
          "base_uri": "https://localhost:8080/"
        },
        "id": "heY4aNmcxs33",
        "outputId": "2bcbe8fe-acdc-4197-eaa1-ee5792b7cf6f"
      },
      "execution_count": 12,
      "outputs": [
        {
          "output_type": "stream",
          "name": "stdout",
          "text": [
            "ResNet34(\n",
            "  (block1): Sequential(\n",
            "    (0): Conv2d(1, 64, kernel_size=(7, 7), stride=(2, 2), padding=(3, 3), bias=False)\n",
            "    (1): BatchNorm2d(64, eps=1e-05, momentum=0.1, affine=True, track_running_stats=True)\n",
            "    (2): ReLU(inplace=True)\n",
            "  )\n",
            "  (block2): Sequential(\n",
            "    (0): MaxPool2d(kernel_size=3, stride=2, padding=1, dilation=1, ceil_mode=False)\n",
            "    (1): ResidualBlock(\n",
            "      (cnn1): Sequential(\n",
            "        (0): Conv2d(64, 64, kernel_size=(3, 3), stride=(1, 1), padding=(1, 1), bias=False)\n",
            "        (1): BatchNorm2d(64, eps=1e-05, momentum=0.1, affine=True, track_running_stats=True)\n",
            "        (2): ReLU(inplace=True)\n",
            "      )\n",
            "      (cnn2): Sequential(\n",
            "        (0): Conv2d(64, 64, kernel_size=(3, 3), stride=(1, 1), padding=(1, 1), bias=False)\n",
            "        (1): BatchNorm2d(64, eps=1e-05, momentum=0.1, affine=True, track_running_stats=True)\n",
            "      )\n",
            "      (shortcut): Sequential()\n",
            "    )\n",
            "    (2): ResidualBlock(\n",
            "      (cnn1): Sequential(\n",
            "        (0): Conv2d(64, 64, kernel_size=(3, 3), stride=(2, 2), padding=(1, 1), bias=False)\n",
            "        (1): BatchNorm2d(64, eps=1e-05, momentum=0.1, affine=True, track_running_stats=True)\n",
            "        (2): ReLU(inplace=True)\n",
            "      )\n",
            "      (cnn2): Sequential(\n",
            "        (0): Conv2d(64, 64, kernel_size=(3, 3), stride=(1, 1), padding=(1, 1), bias=False)\n",
            "        (1): BatchNorm2d(64, eps=1e-05, momentum=0.1, affine=True, track_running_stats=True)\n",
            "      )\n",
            "      (shortcut): Sequential(\n",
            "        (0): Conv2d(64, 64, kernel_size=(1, 1), stride=(2, 2), bias=False)\n",
            "        (1): BatchNorm2d(64, eps=1e-05, momentum=0.1, affine=True, track_running_stats=True)\n",
            "      )\n",
            "    )\n",
            "  )\n",
            "  (block3): Sequential(\n",
            "    (0): ResidualBlock(\n",
            "      (cnn1): Sequential(\n",
            "        (0): Conv2d(64, 128, kernel_size=(3, 3), stride=(1, 1), padding=(1, 1), bias=False)\n",
            "        (1): BatchNorm2d(128, eps=1e-05, momentum=0.1, affine=True, track_running_stats=True)\n",
            "        (2): ReLU(inplace=True)\n",
            "      )\n",
            "      (cnn2): Sequential(\n",
            "        (0): Conv2d(128, 128, kernel_size=(3, 3), stride=(1, 1), padding=(1, 1), bias=False)\n",
            "        (1): BatchNorm2d(128, eps=1e-05, momentum=0.1, affine=True, track_running_stats=True)\n",
            "      )\n",
            "      (shortcut): Sequential(\n",
            "        (0): Conv2d(64, 128, kernel_size=(1, 1), stride=(1, 1), bias=False)\n",
            "        (1): BatchNorm2d(128, eps=1e-05, momentum=0.1, affine=True, track_running_stats=True)\n",
            "      )\n",
            "    )\n",
            "    (1): ResidualBlock(\n",
            "      (cnn1): Sequential(\n",
            "        (0): Conv2d(128, 128, kernel_size=(3, 3), stride=(2, 2), padding=(1, 1), bias=False)\n",
            "        (1): BatchNorm2d(128, eps=1e-05, momentum=0.1, affine=True, track_running_stats=True)\n",
            "        (2): ReLU(inplace=True)\n",
            "      )\n",
            "      (cnn2): Sequential(\n",
            "        (0): Conv2d(128, 128, kernel_size=(3, 3), stride=(1, 1), padding=(1, 1), bias=False)\n",
            "        (1): BatchNorm2d(128, eps=1e-05, momentum=0.1, affine=True, track_running_stats=True)\n",
            "      )\n",
            "      (shortcut): Sequential(\n",
            "        (0): Conv2d(128, 128, kernel_size=(1, 1), stride=(2, 2), bias=False)\n",
            "        (1): BatchNorm2d(128, eps=1e-05, momentum=0.1, affine=True, track_running_stats=True)\n",
            "      )\n",
            "    )\n",
            "  )\n",
            "  (block4): Sequential(\n",
            "    (0): ResidualBlock(\n",
            "      (cnn1): Sequential(\n",
            "        (0): Conv2d(128, 256, kernel_size=(3, 3), stride=(1, 1), padding=(1, 1), bias=False)\n",
            "        (1): BatchNorm2d(256, eps=1e-05, momentum=0.1, affine=True, track_running_stats=True)\n",
            "        (2): ReLU(inplace=True)\n",
            "      )\n",
            "      (cnn2): Sequential(\n",
            "        (0): Conv2d(256, 256, kernel_size=(3, 3), stride=(1, 1), padding=(1, 1), bias=False)\n",
            "        (1): BatchNorm2d(256, eps=1e-05, momentum=0.1, affine=True, track_running_stats=True)\n",
            "      )\n",
            "      (shortcut): Sequential(\n",
            "        (0): Conv2d(128, 256, kernel_size=(1, 1), stride=(1, 1), bias=False)\n",
            "        (1): BatchNorm2d(256, eps=1e-05, momentum=0.1, affine=True, track_running_stats=True)\n",
            "      )\n",
            "    )\n",
            "    (1): ResidualBlock(\n",
            "      (cnn1): Sequential(\n",
            "        (0): Conv2d(256, 256, kernel_size=(3, 3), stride=(2, 2), padding=(1, 1), bias=False)\n",
            "        (1): BatchNorm2d(256, eps=1e-05, momentum=0.1, affine=True, track_running_stats=True)\n",
            "        (2): ReLU(inplace=True)\n",
            "      )\n",
            "      (cnn2): Sequential(\n",
            "        (0): Conv2d(256, 256, kernel_size=(3, 3), stride=(1, 1), padding=(1, 1), bias=False)\n",
            "        (1): BatchNorm2d(256, eps=1e-05, momentum=0.1, affine=True, track_running_stats=True)\n",
            "      )\n",
            "      (shortcut): Sequential(\n",
            "        (0): Conv2d(256, 256, kernel_size=(1, 1), stride=(2, 2), bias=False)\n",
            "        (1): BatchNorm2d(256, eps=1e-05, momentum=0.1, affine=True, track_running_stats=True)\n",
            "      )\n",
            "    )\n",
            "  )\n",
            "  (block5): Sequential(\n",
            "    (0): ResidualBlock(\n",
            "      (cnn1): Sequential(\n",
            "        (0): Conv2d(256, 512, kernel_size=(3, 3), stride=(1, 1), padding=(1, 1), bias=False)\n",
            "        (1): BatchNorm2d(512, eps=1e-05, momentum=0.1, affine=True, track_running_stats=True)\n",
            "        (2): ReLU(inplace=True)\n",
            "      )\n",
            "      (cnn2): Sequential(\n",
            "        (0): Conv2d(512, 512, kernel_size=(3, 3), stride=(1, 1), padding=(1, 1), bias=False)\n",
            "        (1): BatchNorm2d(512, eps=1e-05, momentum=0.1, affine=True, track_running_stats=True)\n",
            "      )\n",
            "      (shortcut): Sequential(\n",
            "        (0): Conv2d(256, 512, kernel_size=(1, 1), stride=(1, 1), bias=False)\n",
            "        (1): BatchNorm2d(512, eps=1e-05, momentum=0.1, affine=True, track_running_stats=True)\n",
            "      )\n",
            "    )\n",
            "    (1): ResidualBlock(\n",
            "      (cnn1): Sequential(\n",
            "        (0): Conv2d(512, 512, kernel_size=(3, 3), stride=(2, 2), padding=(1, 1), bias=False)\n",
            "        (1): BatchNorm2d(512, eps=1e-05, momentum=0.1, affine=True, track_running_stats=True)\n",
            "        (2): ReLU(inplace=True)\n",
            "      )\n",
            "      (cnn2): Sequential(\n",
            "        (0): Conv2d(512, 512, kernel_size=(3, 3), stride=(1, 1), padding=(1, 1), bias=False)\n",
            "        (1): BatchNorm2d(512, eps=1e-05, momentum=0.1, affine=True, track_running_stats=True)\n",
            "      )\n",
            "      (shortcut): Sequential(\n",
            "        (0): Conv2d(512, 512, kernel_size=(1, 1), stride=(2, 2), bias=False)\n",
            "        (1): BatchNorm2d(512, eps=1e-05, momentum=0.1, affine=True, track_running_stats=True)\n",
            "      )\n",
            "    )\n",
            "  )\n",
            "  (avgpool): AdaptiveAvgPool2d(output_size=1)\n",
            "  (flatten): Flatten(start_dim=1, end_dim=-1)\n",
            "  (fc): Linear(in_features=512, out_features=10, bias=True)\n",
            ")\n"
          ]
        }
      ]
    },
    {
      "cell_type": "markdown",
      "source": [
        "## Train Model"
      ],
      "metadata": {
        "id": "XTI6P4sw0YVs"
      }
    },
    {
      "cell_type": "code",
      "source": [
        "# Define Loss Function and Optimizer\n",
        "\n",
        "loss_fn = nn.CrossEntropyLoss()\n",
        "optimizer = torch.optim.Adam(model.parameters(), lr=1e-3)"
      ],
      "metadata": {
        "id": "uUp8vIykzl9d"
      },
      "execution_count": 13,
      "outputs": []
    },
    {
      "cell_type": "code",
      "source": [
        "# Training and Test Functions\n",
        "\n",
        "def train(dataloader, model, loss_fn, optimizer):\n",
        "    size = len(dataloader.dataset)\n",
        "    model.train()\n",
        "    for batch, (X, y) in enumerate(dataloader):\n",
        "        X, y = X.to(device), y.to(device)\n",
        "\n",
        "        # Compute prediction error\n",
        "        pred = model(X)\n",
        "        loss = loss_fn(pred, y)\n",
        "\n",
        "        # Backpropagation\n",
        "        optimizer.zero_grad()\n",
        "        loss.backward()\n",
        "        optimizer.step()\n",
        "\n",
        "        if batch % 100 == 0:\n",
        "            loss, current = loss.item(), batch * len(X)\n",
        "            print(f\"loss: {loss:>7f}  [{current:>5d}/{size:>5d}]\")\n",
        "\n",
        "\n",
        "def test(dataloader, model, loss_fn):\n",
        "    size = len(dataloader.dataset)\n",
        "    num_batches = len(dataloader)\n",
        "    model.eval()\n",
        "    test_loss, correct = 0, 0\n",
        "    with torch.no_grad():\n",
        "        for X, y in dataloader:\n",
        "            X, y = X.to(device), y.to(device)\n",
        "            pred = model(X)\n",
        "            test_loss += loss_fn(pred, y).item()\n",
        "            correct += (pred.argmax(1) == y).type(torch.float).sum().item()\n",
        "    test_loss /= num_batches\n",
        "    correct /= size\n",
        "    print(f\"Test Error: \\n Accuracy: {(100*correct):>0.1f}%, Avg loss: {test_loss:>8f} \\n\")"
      ],
      "metadata": {
        "id": "3PrbVPhq02yL"
      },
      "execution_count": 14,
      "outputs": []
    },
    {
      "cell_type": "code",
      "source": [
        "# Training Process\n",
        "\n",
        "epochs = 20\n",
        "for t in range(epochs):\n",
        "    print(f\"Epoch {t+1}\\n-------------------------------\")\n",
        "    train(train_dataloader, model, loss_fn, optimizer)\n",
        "    test(test_dataloader, model, loss_fn)\n",
        "print(\"Done!\")"
      ],
      "metadata": {
        "colab": {
          "base_uri": "https://localhost:8080/"
        },
        "id": "ZEJaaDt31Nf2",
        "outputId": "80cf6d29-e190-4753-9ac1-efd4b65a3b4a"
      },
      "execution_count": 15,
      "outputs": [
        {
          "output_type": "stream",
          "name": "stdout",
          "text": [
            "Epoch 1\n",
            "-------------------------------\n",
            "loss: 2.484146  [    0/60000]\n",
            "loss: 0.649597  [ 6400/60000]\n",
            "loss: 0.350050  [12800/60000]\n",
            "loss: 0.532266  [19200/60000]\n",
            "loss: 0.697829  [25600/60000]\n",
            "loss: 0.429436  [32000/60000]\n",
            "loss: 0.376536  [38400/60000]\n",
            "loss: 0.541290  [44800/60000]\n",
            "loss: 0.334815  [51200/60000]\n",
            "loss: 0.475697  [57600/60000]\n",
            "Test Error: \n",
            " Accuracy: 84.9%, Avg loss: 0.398475 \n",
            "\n",
            "Epoch 2\n",
            "-------------------------------\n",
            "loss: 0.349657  [    0/60000]\n",
            "loss: 0.284859  [ 6400/60000]\n",
            "loss: 0.253648  [12800/60000]\n",
            "loss: 0.358144  [19200/60000]\n",
            "loss: 0.547422  [25600/60000]\n",
            "loss: 0.396163  [32000/60000]\n",
            "loss: 0.244761  [38400/60000]\n",
            "loss: 0.418563  [44800/60000]\n",
            "loss: 0.306817  [51200/60000]\n",
            "loss: 0.311488  [57600/60000]\n",
            "Test Error: \n",
            " Accuracy: 85.2%, Avg loss: 0.414802 \n",
            "\n",
            "Epoch 3\n",
            "-------------------------------\n",
            "loss: 0.318251  [    0/60000]\n",
            "loss: 0.270347  [ 6400/60000]\n",
            "loss: 0.235870  [12800/60000]\n",
            "loss: 0.267347  [19200/60000]\n",
            "loss: 0.320776  [25600/60000]\n",
            "loss: 0.341820  [32000/60000]\n",
            "loss: 0.232389  [38400/60000]\n",
            "loss: 0.439266  [44800/60000]\n",
            "loss: 0.241358  [51200/60000]\n",
            "loss: 0.272689  [57600/60000]\n",
            "Test Error: \n",
            " Accuracy: 87.4%, Avg loss: 0.349047 \n",
            "\n",
            "Epoch 4\n",
            "-------------------------------\n",
            "loss: 0.248699  [    0/60000]\n",
            "loss: 0.257444  [ 6400/60000]\n",
            "loss: 0.253943  [12800/60000]\n",
            "loss: 0.252091  [19200/60000]\n",
            "loss: 0.254329  [25600/60000]\n",
            "loss: 0.362222  [32000/60000]\n",
            "loss: 0.241889  [38400/60000]\n",
            "loss: 0.305236  [44800/60000]\n",
            "loss: 0.242367  [51200/60000]\n",
            "loss: 0.271394  [57600/60000]\n",
            "Test Error: \n",
            " Accuracy: 87.9%, Avg loss: 0.336248 \n",
            "\n",
            "Epoch 5\n",
            "-------------------------------\n",
            "loss: 0.208429  [    0/60000]\n",
            "loss: 0.217202  [ 6400/60000]\n",
            "loss: 0.215474  [12800/60000]\n",
            "loss: 0.218667  [19200/60000]\n",
            "loss: 0.200199  [25600/60000]\n",
            "loss: 0.342486  [32000/60000]\n",
            "loss: 0.236526  [38400/60000]\n",
            "loss: 0.321957  [44800/60000]\n",
            "loss: 0.250754  [51200/60000]\n",
            "loss: 0.253519  [57600/60000]\n",
            "Test Error: \n",
            " Accuracy: 88.8%, Avg loss: 0.317249 \n",
            "\n",
            "Epoch 6\n",
            "-------------------------------\n",
            "loss: 0.162193  [    0/60000]\n",
            "loss: 0.179953  [ 6400/60000]\n",
            "loss: 0.213087  [12800/60000]\n",
            "loss: 0.195927  [19200/60000]\n",
            "loss: 0.256961  [25600/60000]\n",
            "loss: 0.311375  [32000/60000]\n",
            "loss: 0.201558  [38400/60000]\n",
            "loss: 0.291979  [44800/60000]\n",
            "loss: 0.124334  [51200/60000]\n",
            "loss: 0.196187  [57600/60000]\n",
            "Test Error: \n",
            " Accuracy: 89.4%, Avg loss: 0.320154 \n",
            "\n",
            "Epoch 7\n",
            "-------------------------------\n",
            "loss: 0.168430  [    0/60000]\n",
            "loss: 0.210105  [ 6400/60000]\n",
            "loss: 0.220947  [12800/60000]\n",
            "loss: 0.176692  [19200/60000]\n",
            "loss: 0.208457  [25600/60000]\n",
            "loss: 0.266538  [32000/60000]\n",
            "loss: 0.186737  [38400/60000]\n",
            "loss: 0.216223  [44800/60000]\n",
            "loss: 0.159566  [51200/60000]\n",
            "loss: 0.209749  [57600/60000]\n",
            "Test Error: \n",
            " Accuracy: 88.0%, Avg loss: 0.354354 \n",
            "\n",
            "Epoch 8\n",
            "-------------------------------\n",
            "loss: 0.222572  [    0/60000]\n",
            "loss: 0.185143  [ 6400/60000]\n",
            "loss: 0.150516  [12800/60000]\n",
            "loss: 0.247441  [19200/60000]\n",
            "loss: 0.181677  [25600/60000]\n",
            "loss: 0.267744  [32000/60000]\n",
            "loss: 0.209262  [38400/60000]\n",
            "loss: 0.237526  [44800/60000]\n",
            "loss: 0.181602  [51200/60000]\n",
            "loss: 0.142394  [57600/60000]\n",
            "Test Error: \n",
            " Accuracy: 90.0%, Avg loss: 0.321185 \n",
            "\n",
            "Epoch 9\n",
            "-------------------------------\n",
            "loss: 0.196602  [    0/60000]\n",
            "loss: 0.120102  [ 6400/60000]\n",
            "loss: 0.132821  [12800/60000]\n",
            "loss: 0.143454  [19200/60000]\n",
            "loss: 0.242867  [25600/60000]\n",
            "loss: 0.227865  [32000/60000]\n",
            "loss: 0.229460  [38400/60000]\n",
            "loss: 0.281423  [44800/60000]\n",
            "loss: 0.100555  [51200/60000]\n",
            "loss: 0.141264  [57600/60000]\n",
            "Test Error: \n",
            " Accuracy: 89.9%, Avg loss: 0.338312 \n",
            "\n",
            "Epoch 10\n",
            "-------------------------------\n",
            "loss: 0.184399  [    0/60000]\n",
            "loss: 0.127400  [ 6400/60000]\n",
            "loss: 0.095237  [12800/60000]\n",
            "loss: 0.117938  [19200/60000]\n",
            "loss: 0.183528  [25600/60000]\n",
            "loss: 0.196162  [32000/60000]\n",
            "loss: 0.207709  [38400/60000]\n",
            "loss: 0.199767  [44800/60000]\n",
            "loss: 0.174807  [51200/60000]\n",
            "loss: 0.130148  [57600/60000]\n",
            "Test Error: \n",
            " Accuracy: 90.2%, Avg loss: 0.325082 \n",
            "\n",
            "Epoch 11\n",
            "-------------------------------\n",
            "loss: 0.128146  [    0/60000]\n",
            "loss: 0.196057  [ 6400/60000]\n",
            "loss: 0.080063  [12800/60000]\n",
            "loss: 0.145474  [19200/60000]\n",
            "loss: 0.179651  [25600/60000]\n",
            "loss: 0.292907  [32000/60000]\n",
            "loss: 0.239222  [38400/60000]\n",
            "loss: 0.171556  [44800/60000]\n",
            "loss: 0.089571  [51200/60000]\n",
            "loss: 0.169527  [57600/60000]\n",
            "Test Error: \n",
            " Accuracy: 90.0%, Avg loss: 0.339406 \n",
            "\n",
            "Epoch 12\n",
            "-------------------------------\n",
            "loss: 0.138578  [    0/60000]\n",
            "loss: 0.115251  [ 6400/60000]\n",
            "loss: 0.049152  [12800/60000]\n",
            "loss: 0.129147  [19200/60000]\n",
            "loss: 0.133074  [25600/60000]\n",
            "loss: 0.206739  [32000/60000]\n",
            "loss: 0.078228  [38400/60000]\n",
            "loss: 0.116478  [44800/60000]\n",
            "loss: 0.058737  [51200/60000]\n",
            "loss: 0.079722  [57600/60000]\n",
            "Test Error: \n",
            " Accuracy: 90.4%, Avg loss: 0.330449 \n",
            "\n",
            "Epoch 13\n",
            "-------------------------------\n",
            "loss: 0.109097  [    0/60000]\n",
            "loss: 0.142761  [ 6400/60000]\n",
            "loss: 0.038111  [12800/60000]\n",
            "loss: 0.060436  [19200/60000]\n",
            "loss: 0.095083  [25600/60000]\n",
            "loss: 0.276909  [32000/60000]\n",
            "loss: 0.130245  [38400/60000]\n",
            "loss: 0.286726  [44800/60000]\n",
            "loss: 0.110098  [51200/60000]\n",
            "loss: 0.106791  [57600/60000]\n",
            "Test Error: \n",
            " Accuracy: 90.6%, Avg loss: 0.329420 \n",
            "\n",
            "Epoch 14\n",
            "-------------------------------\n",
            "loss: 0.103331  [    0/60000]\n",
            "loss: 0.091714  [ 6400/60000]\n",
            "loss: 0.020633  [12800/60000]\n",
            "loss: 0.120487  [19200/60000]\n",
            "loss: 0.078638  [25600/60000]\n",
            "loss: 0.170958  [32000/60000]\n",
            "loss: 0.075085  [38400/60000]\n",
            "loss: 0.134568  [44800/60000]\n",
            "loss: 0.066534  [51200/60000]\n",
            "loss: 0.059114  [57600/60000]\n",
            "Test Error: \n",
            " Accuracy: 90.2%, Avg loss: 0.359749 \n",
            "\n",
            "Epoch 15\n",
            "-------------------------------\n",
            "loss: 0.128630  [    0/60000]\n",
            "loss: 0.084365  [ 6400/60000]\n",
            "loss: 0.035113  [12800/60000]\n",
            "loss: 0.178176  [19200/60000]\n",
            "loss: 0.051522  [25600/60000]\n",
            "loss: 0.232199  [32000/60000]\n",
            "loss: 0.082569  [38400/60000]\n",
            "loss: 0.108007  [44800/60000]\n",
            "loss: 0.080230  [51200/60000]\n",
            "loss: 0.072274  [57600/60000]\n",
            "Test Error: \n",
            " Accuracy: 90.3%, Avg loss: 0.377305 \n",
            "\n",
            "Epoch 16\n",
            "-------------------------------\n",
            "loss: 0.096818  [    0/60000]\n",
            "loss: 0.066515  [ 6400/60000]\n",
            "loss: 0.014907  [12800/60000]\n",
            "loss: 0.058830  [19200/60000]\n",
            "loss: 0.112572  [25600/60000]\n",
            "loss: 0.189965  [32000/60000]\n",
            "loss: 0.048203  [38400/60000]\n",
            "loss: 0.070042  [44800/60000]\n",
            "loss: 0.062546  [51200/60000]\n",
            "loss: 0.153844  [57600/60000]\n",
            "Test Error: \n",
            " Accuracy: 90.5%, Avg loss: 0.374635 \n",
            "\n",
            "Epoch 17\n",
            "-------------------------------\n",
            "loss: 0.117675  [    0/60000]\n",
            "loss: 0.058888  [ 6400/60000]\n",
            "loss: 0.012815  [12800/60000]\n",
            "loss: 0.077992  [19200/60000]\n",
            "loss: 0.019404  [25600/60000]\n",
            "loss: 0.151686  [32000/60000]\n",
            "loss: 0.047159  [38400/60000]\n",
            "loss: 0.101927  [44800/60000]\n",
            "loss: 0.088887  [51200/60000]\n",
            "loss: 0.044893  [57600/60000]\n",
            "Test Error: \n",
            " Accuracy: 90.5%, Avg loss: 0.402904 \n",
            "\n",
            "Epoch 18\n",
            "-------------------------------\n",
            "loss: 0.052213  [    0/60000]\n",
            "loss: 0.041183  [ 6400/60000]\n",
            "loss: 0.029945  [12800/60000]\n",
            "loss: 0.104327  [19200/60000]\n",
            "loss: 0.054845  [25600/60000]\n",
            "loss: 0.164453  [32000/60000]\n",
            "loss: 0.087060  [38400/60000]\n",
            "loss: 0.070660  [44800/60000]\n",
            "loss: 0.103115  [51200/60000]\n",
            "loss: 0.101874  [57600/60000]\n",
            "Test Error: \n",
            " Accuracy: 89.9%, Avg loss: 0.396526 \n",
            "\n",
            "Epoch 19\n",
            "-------------------------------\n",
            "loss: 0.100824  [    0/60000]\n",
            "loss: 0.020509  [ 6400/60000]\n",
            "loss: 0.011513  [12800/60000]\n",
            "loss: 0.033594  [19200/60000]\n",
            "loss: 0.015133  [25600/60000]\n",
            "loss: 0.229034  [32000/60000]\n",
            "loss: 0.087010  [38400/60000]\n",
            "loss: 0.050899  [44800/60000]\n",
            "loss: 0.053278  [51200/60000]\n",
            "loss: 0.088789  [57600/60000]\n",
            "Test Error: \n",
            " Accuracy: 90.2%, Avg loss: 0.407307 \n",
            "\n",
            "Epoch 20\n",
            "-------------------------------\n",
            "loss: 0.058475  [    0/60000]\n",
            "loss: 0.049030  [ 6400/60000]\n",
            "loss: 0.019722  [12800/60000]\n",
            "loss: 0.041304  [19200/60000]\n",
            "loss: 0.006717  [25600/60000]\n",
            "loss: 0.100897  [32000/60000]\n",
            "loss: 0.061200  [38400/60000]\n",
            "loss: 0.121926  [44800/60000]\n",
            "loss: 0.076601  [51200/60000]\n",
            "loss: 0.074652  [57600/60000]\n",
            "Test Error: \n",
            " Accuracy: 90.1%, Avg loss: 0.412383 \n",
            "\n",
            "Done!\n"
          ]
        }
      ]
    },
    {
      "cell_type": "markdown",
      "source": [
        "## Save Model"
      ],
      "metadata": {
        "id": "vP7YDJXsuFem"
      }
    },
    {
      "cell_type": "code",
      "source": [
        "# Save Pytorch Model\n",
        "\n",
        "torch.save(model.state_dict(), \"model.pth\")\n",
        "print(\"Saved PyTorch Model State to model.pth\")"
      ],
      "metadata": {
        "id": "vsjkvwjx1VOb",
        "colab": {
          "base_uri": "https://localhost:8080/"
        },
        "outputId": "f82040e3-d8da-4f9a-8b9b-aad36c16f7d8"
      },
      "execution_count": 16,
      "outputs": [
        {
          "output_type": "stream",
          "name": "stdout",
          "text": [
            "Saved PyTorch Model State to model.pth\n"
          ]
        }
      ]
    },
    {
      "cell_type": "markdown",
      "source": [
        "## Load Model"
      ],
      "metadata": {
        "id": "fATUcsa5uLFx"
      }
    },
    {
      "cell_type": "code",
      "source": [
        "# Load Pytorch Model\n",
        "\n",
        "model = ResNet34(input_channels=1, output_dim=10)\n",
        "model.load_state_dict(torch.load(\"model.pth\"))"
      ],
      "metadata": {
        "colab": {
          "base_uri": "https://localhost:8080/"
        },
        "id": "_6TyCgbJuJpk",
        "outputId": "dbd5aa7d-cde6-4a27-bec6-f4fa987edeb9"
      },
      "execution_count": 18,
      "outputs": [
        {
          "output_type": "execute_result",
          "data": {
            "text/plain": [
              "<All keys matched successfully>"
            ]
          },
          "metadata": {},
          "execution_count": 18
        }
      ]
    },
    {
      "cell_type": "code",
      "source": [
        "# Test Model for Predictions\n",
        "\n",
        "model.eval()\n",
        "x, y = test_data[0][0], test_data[0][1]\n",
        "\n",
        "with torch.no_grad():\n",
        "    pred = model(x.unsqueeze(0))\n",
        "    predicted, actual = labels_map[pred[0].argmax(0).item()], labels_map[y]\n",
        "    print(f'Predicted: \"{predicted}\", Actual: \"{actual}\"')\n",
        "\n",
        "plt.figure()\n",
        "plt.imshow(x.squeeze(), cmap=plt.get_cmap(\"gray\"))\n",
        "plt.axis(\"off\")\n",
        "plt.show()"
      ],
      "metadata": {
        "colab": {
          "base_uri": "https://localhost:8080/",
          "height": 265
        },
        "id": "kA2pv2P_utfw",
        "outputId": "0d767a23-0617-4ff1-e610-bc69267181d2"
      },
      "execution_count": 19,
      "outputs": [
        {
          "output_type": "stream",
          "name": "stdout",
          "text": [
            "Predicted: \"Ankle Boot\", Actual: \"Ankle Boot\"\n"
          ]
        },
        {
          "output_type": "display_data",
          "data": {
            "text/plain": [
              "<Figure size 432x288 with 1 Axes>"
            ],
            "image/png": "[encoded data removed]"
          },
          "metadata": {
            "needs_background": "light"
          }
        }
      ]
    }
  ]
}